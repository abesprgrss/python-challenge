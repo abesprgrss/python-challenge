{
 "cells": [
  {
   "cell_type": "code",
   "execution_count": 126,
   "id": "a1dbba24-bb57-4f6c-b65b-49c40ab23695",
   "metadata": {},
   "outputs": [],
   "source": [
    "import os\n",
    "import pandas as pd\n",
    "import numpy as np"
   ]
  },
  {
   "cell_type": "code",
   "execution_count": 127,
   "id": "a724871f-d00c-413d-90f9-2131a03ece27",
   "metadata": {},
   "outputs": [
    {
     "data": {
      "text/plain": [
       "'\\nRead the data\\n\\nThe total number of months included in the dataset\\n\\nThe net total amount of \"Profit/Losses\" over the entire period\\n\\nCalculate the changes in \"Profit/Losses\" over the entire period, then find the average of those changes\\n\\nThe greatest increase in profits (date and amount) over the entire period\\n\\nThe greatest decrease in profits (date and amount) over the entire period\\n\\nFinancial Analysis\\n----------------------------\\nTotal Months: 86\\nTotal: $38382578\\nAverage  Change: $-2315.12\\nGreatest Increase in Profits: Feb-2012 ($1926159)\\nGreatest Decrease in Profits: Sep-2013 ($-2196167)\\n\\n'"
      ]
     },
     "execution_count": 127,
     "metadata": {},
     "output_type": "execute_result"
    }
   ],
   "source": [
    "\"\"\"\n",
    "Read the data\n",
    "\n",
    "The total number of months included in the dataset\n",
    "\n",
    "The net total amount of \"Profit/Losses\" over the entire period\n",
    "\n",
    "Calculate the changes in \"Profit/Losses\" over the entire period, then find the average of those changes\n",
    "\n",
    "The greatest increase in profits (date and amount) over the entire period\n",
    "\n",
    "The greatest decrease in profits (date and amount) over the entire period\n",
    "\n",
    "Financial Analysis\n",
    "----------------------------\n",
    "Total Months: 86\n",
    "Total: $38382578\n",
    "Average  Change: $-2315.12\n",
    "Greatest Increase in Profits: Feb-2012 ($1926159)\n",
    "Greatest Decrease in Profits: Sep-2013 ($-2196167)\n",
    "\n",
    "\"\"\"\n"
   ]
  },
  {
   "cell_type": "code",
   "execution_count": 128,
   "id": "4ec9b696-fd4b-4234-93c9-87d9d77457a0",
   "metadata": {},
   "outputs": [
    {
     "data": {
      "text/html": [
       "<div>\n",
       "<style scoped>\n",
       "    .dataframe tbody tr th:only-of-type {\n",
       "        vertical-align: middle;\n",
       "    }\n",
       "\n",
       "    .dataframe tbody tr th {\n",
       "        vertical-align: top;\n",
       "    }\n",
       "\n",
       "    .dataframe thead th {\n",
       "        text-align: right;\n",
       "    }\n",
       "</style>\n",
       "<table border=\"1\" class=\"dataframe\">\n",
       "  <thead>\n",
       "    <tr style=\"text-align: right;\">\n",
       "      <th></th>\n",
       "      <th>Date</th>\n",
       "      <th>Profit/Losses</th>\n",
       "    </tr>\n",
       "  </thead>\n",
       "  <tbody>\n",
       "    <tr>\n",
       "      <th>0</th>\n",
       "      <td>Jan-2010</td>\n",
       "      <td>867884</td>\n",
       "    </tr>\n",
       "    <tr>\n",
       "      <th>1</th>\n",
       "      <td>Feb-2010</td>\n",
       "      <td>984655</td>\n",
       "    </tr>\n",
       "    <tr>\n",
       "      <th>2</th>\n",
       "      <td>Mar-2010</td>\n",
       "      <td>322013</td>\n",
       "    </tr>\n",
       "    <tr>\n",
       "      <th>3</th>\n",
       "      <td>Apr-2010</td>\n",
       "      <td>-69417</td>\n",
       "    </tr>\n",
       "    <tr>\n",
       "      <th>4</th>\n",
       "      <td>May-2010</td>\n",
       "      <td>310503</td>\n",
       "    </tr>\n",
       "  </tbody>\n",
       "</table>\n",
       "</div>"
      ],
      "text/plain": [
       "       Date  Profit/Losses\n",
       "0  Jan-2010         867884\n",
       "1  Feb-2010         984655\n",
       "2  Mar-2010         322013\n",
       "3  Apr-2010         -69417\n",
       "4  May-2010         310503"
      ]
     },
     "execution_count": 128,
     "metadata": {},
     "output_type": "execute_result"
    }
   ],
   "source": [
    "df = pd.read_csv(\"Resources/budget_data.csv\")\n",
    "df.head()"
   ]
  },
  {
   "cell_type": "code",
   "execution_count": 129,
   "id": "74843c15-cf85-4b76-bcf6-325cdf15c48d",
   "metadata": {},
   "outputs": [],
   "source": [
    "#The total number of months included in the dataset"
   ]
  },
  {
   "cell_type": "code",
   "execution_count": 130,
   "id": "0d4a8c8a-563b-4738-b81d-e55c25b76a98",
   "metadata": {},
   "outputs": [
    {
     "data": {
      "text/plain": [
       "86"
      ]
     },
     "execution_count": 130,
     "metadata": {},
     "output_type": "execute_result"
    }
   ],
   "source": [
    "moncount = df[\"Date\"].count()\n",
    "moncount\n"
   ]
  },
  {
   "cell_type": "code",
   "execution_count": 131,
   "id": "f34e05cc-aae2-4c35-8ce3-f0af0b28d52d",
   "metadata": {},
   "outputs": [
    {
     "data": {
      "text/plain": [
       "86"
      ]
     },
     "execution_count": 131,
     "metadata": {},
     "output_type": "execute_result"
    }
   ],
   "source": [
    "len(df)"
   ]
  },
  {
   "cell_type": "code",
   "execution_count": 132,
   "id": "fd36bc91-0b11-4bbe-94f3-7dd82c8a7a99",
   "metadata": {},
   "outputs": [],
   "source": [
    "#The net total amount of \"Profit/Losses\" over the entire period"
   ]
  },
  {
   "cell_type": "code",
   "execution_count": 133,
   "id": "0a1c6515-b93f-40c0-8725-fb6642db324e",
   "metadata": {},
   "outputs": [
    {
     "data": {
      "text/plain": [
       "38382578"
      ]
     },
     "execution_count": 133,
     "metadata": {},
     "output_type": "execute_result"
    }
   ],
   "source": [
    "totalpl = df[\"Profit/Losses\"].sum()\n",
    "totalpl"
   ]
  },
  {
   "cell_type": "code",
   "execution_count": 134,
   "id": "881167fd-9adf-4091-bbe2-099e679260f2",
   "metadata": {},
   "outputs": [],
   "source": [
    "#Calculate the changes in \"Profit/Losses\" over the entire period, then find the average of those changes\n"
   ]
  },
  {
   "cell_type": "code",
   "execution_count": 135,
   "id": "bf3a1196-40e3-4d12-a068-b9b345eed265",
   "metadata": {},
   "outputs": [],
   "source": [
    "monthly_change = [0]\n",
    "pl = df[\"Profit/Losses\"].to_list()\n",
    "for i in range(1,len(pl)):\n",
    "    diff = pl[i]-pl[i - 1]\n",
    "    monthly_change.append(diff)\n",
    "#monthly_change\n",
    "df[\"Differences\"] = monthly_change\n",
    "\n"
   ]
  },
  {
   "cell_type": "code",
   "execution_count": 136,
   "id": "d51aa0da-e7f9-4922-b39a-a42d28a5c6cb",
   "metadata": {},
   "outputs": [
    {
     "data": {
      "text/plain": [
       "-2288.2"
      ]
     },
     "execution_count": 136,
     "metadata": {},
     "output_type": "execute_result"
    }
   ],
   "source": [
    "avgchg = round(df[\"Differences\"].mean(),2)\n",
    "#avgchg\n",
    "avgchg"
   ]
  },
  {
   "cell_type": "code",
   "execution_count": 137,
   "id": "413be361-d7e0-4905-9582-578b0007651a",
   "metadata": {},
   "outputs": [
    {
     "data": {
      "text/plain": [
       "1926159"
      ]
     },
     "execution_count": 137,
     "metadata": {},
     "output_type": "execute_result"
    }
   ],
   "source": [
    "#The greatest increase in profits (date and amount) over the entire period\n",
    "maxinc = df[\"Differences\"].max()\n",
    "maxinc"
   ]
  },
  {
   "cell_type": "code",
   "execution_count": 138,
   "id": "f88ae6b4-dbb3-45d5-ae5b-451aac68146d",
   "metadata": {},
   "outputs": [
    {
     "data": {
      "text/plain": [
       "-2196167"
      ]
     },
     "execution_count": 138,
     "metadata": {},
     "output_type": "execute_result"
    }
   ],
   "source": [
    "#The greatest decrease in profits (date and amount) over the entire period.\n",
    "mininc = df[\"Differences\"].min()\n",
    "mininc"
   ]
  },
  {
   "cell_type": "code",
   "execution_count": 139,
   "id": "cc087ce9-b7eb-48f6-998d-09d7c1b32787",
   "metadata": {},
   "outputs": [
    {
     "name": "stdout",
     "output_type": "stream",
     "text": [
      "Financial Analysis\n",
      "----------------------------\n",
      "Total Months: 86\n",
      "Total: $ 38382578\n",
      "Average Change: $ -2288.2\n",
      "Greatest Increase in Profits: Feb-2012: $ 1926159\n",
      "Greatest Decrease in Profits: Sep-2013: $ -2196167\n"
     ]
    }
   ],
   "source": [
    "print(\"Financial Analysis\")\n",
    "print(\"----------------------------\")\n",
    "print(f'Total Months:',moncount)\n",
    "print(f'Total: $',totalpl)\n",
    "print(f'Average Change: $',avgchg)\n",
    "print(f'Greatest Increase in Profits: Feb-2012: $',maxinc)\n",
    "print(f'Greatest Decrease in Profits: Sep-2013: $',mininc)"
   ]
  },
  {
   "cell_type": "code",
   "execution_count": 140,
   "id": "5dfe8f41-bd4b-4877-8705-b5948ec0ed16",
   "metadata": {},
   "outputs": [],
   "source": [
    "df.to_csv(\"Analysis/PyBank.csv\", index=False, header=True)"
   ]
  },
  {
   "cell_type": "code",
   "execution_count": 161,
   "id": "991a9451-e961-43f6-94b7-28d1643174f8",
   "metadata": {},
   "outputs": [],
   "source": [
    "#np.savetxt(r'C:\\Users\\egera\\OneDrive\\Desktop\\School wrk\\Homework\\Python-challenge\\python-challenge\\PyBank\\Analysis\\PyBank.txt', df.value, fmt='%10.5f')\n"
   ]
  },
  {
   "cell_type": "code",
   "execution_count": null,
   "id": "a4f45b2c-a197-4b24-bf05-63294ac5a799",
   "metadata": {},
   "outputs": [],
   "source": []
  }
 ],
 "metadata": {
  "kernelspec": {
   "display_name": "Python 3 (ipykernel)",
   "language": "python",
   "name": "python3"
  },
  "language_info": {
   "codemirror_mode": {
    "name": "ipython",
    "version": 3
   },
   "file_extension": ".py",
   "mimetype": "text/x-python",
   "name": "python",
   "nbconvert_exporter": "python",
   "pygments_lexer": "ipython3",
   "version": "3.9.7"
  }
 },
 "nbformat": 4,
 "nbformat_minor": 5
}
