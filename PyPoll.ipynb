{
 "cells": [
  {
   "cell_type": "code",
   "execution_count": 24,
   "id": "738ef543-732d-4ff1-a3f2-59964e159338",
   "metadata": {},
   "outputs": [],
   "source": [
    "import os\n",
    "import pandas as pd"
   ]
  },
  {
   "cell_type": "code",
   "execution_count": 25,
   "id": "3df0d74d-b275-460b-b15b-ca556c76af16",
   "metadata": {},
   "outputs": [
    {
     "data": {
      "text/plain": [
       "\"\\nYou will be give a set of poll data called election_data.csv. The dataset is composed of three columns: Voter ID, County, and Candidate. Your task is to create a Python script that analyzes the votes and calculates each of the following:\\n\\nThe total number of votes cast\\n\\nA complete list of candidates who received votes\\n\\nThe percentage of votes each candidate won\\n\\nThe total number of votes each candidate won\\n\\nThe winner of the election based on popular vote.\\n\\nAs an example, your analysis should look similar to the one below:\\n\\nElection Results\\n-------------------------\\nTotal Votes: 3521001\\n-------------------------\\nKhan: 63.000% (2218231)\\nCorrey: 20.000% (704200)\\nLi: 14.000% (492940)\\nO'Tooley: 3.000% (105630)\\n-------------------------\\nWinner: Khan\\n-------------------------\\nIn addition, your final script should both print the analysis to the terminal and export a text file with the results.\\n\""
      ]
     },
     "execution_count": 25,
     "metadata": {},
     "output_type": "execute_result"
    }
   ],
   "source": [
    "\"\"\"\n",
    "You will be give a set of poll data called election_data.csv. The dataset is composed of three columns: Voter ID, County, and Candidate. Your task is to create a Python script that analyzes the votes and calculates each of the following:\n",
    "\n",
    "The total number of votes cast\n",
    "\n",
    "A complete list of candidates who received votes\n",
    "\n",
    "The percentage of votes each candidate won\n",
    "\n",
    "The total number of votes each candidate won\n",
    "\n",
    "The winner of the election based on popular vote.\n",
    "\n",
    "As an example, your analysis should look similar to the one below:\n",
    "\n",
    "Election Results\n",
    "-------------------------\n",
    "Total Votes: 3521001\n",
    "-------------------------\n",
    "Khan: 63.000% (2218231)\n",
    "Correy: 20.000% (704200)\n",
    "Li: 14.000% (492940)\n",
    "O'Tooley: 3.000% (105630)\n",
    "-------------------------\n",
    "Winner: Khan\n",
    "-------------------------\n",
    "In addition, your final script should both print the analysis to the terminal and export a text file with the results.\n",
    "\"\"\""
   ]
  },
  {
   "cell_type": "code",
   "execution_count": 26,
   "id": "6a4d629d-4b5b-4c0a-9fb4-1112f932fc3c",
   "metadata": {},
   "outputs": [],
   "source": [
    "df = pd.read_csv(\"Resources/election_data.csv\")"
   ]
  },
  {
   "cell_type": "code",
   "execution_count": 27,
   "id": "bd4dc364-474e-428d-acf2-be7cc7508311",
   "metadata": {},
   "outputs": [
    {
     "data": {
      "text/html": [
       "<div>\n",
       "<style scoped>\n",
       "    .dataframe tbody tr th:only-of-type {\n",
       "        vertical-align: middle;\n",
       "    }\n",
       "\n",
       "    .dataframe tbody tr th {\n",
       "        vertical-align: top;\n",
       "    }\n",
       "\n",
       "    .dataframe thead th {\n",
       "        text-align: right;\n",
       "    }\n",
       "</style>\n",
       "<table border=\"1\" class=\"dataframe\">\n",
       "  <thead>\n",
       "    <tr style=\"text-align: right;\">\n",
       "      <th></th>\n",
       "      <th>Voter ID</th>\n",
       "      <th>County</th>\n",
       "      <th>Candidate</th>\n",
       "    </tr>\n",
       "  </thead>\n",
       "  <tbody>\n",
       "    <tr>\n",
       "      <th>0</th>\n",
       "      <td>12864552</td>\n",
       "      <td>Marsh</td>\n",
       "      <td>Khan</td>\n",
       "    </tr>\n",
       "    <tr>\n",
       "      <th>1</th>\n",
       "      <td>17444633</td>\n",
       "      <td>Marsh</td>\n",
       "      <td>Correy</td>\n",
       "    </tr>\n",
       "    <tr>\n",
       "      <th>2</th>\n",
       "      <td>19330107</td>\n",
       "      <td>Marsh</td>\n",
       "      <td>Khan</td>\n",
       "    </tr>\n",
       "    <tr>\n",
       "      <th>3</th>\n",
       "      <td>19865775</td>\n",
       "      <td>Queen</td>\n",
       "      <td>Khan</td>\n",
       "    </tr>\n",
       "    <tr>\n",
       "      <th>4</th>\n",
       "      <td>11927875</td>\n",
       "      <td>Marsh</td>\n",
       "      <td>Khan</td>\n",
       "    </tr>\n",
       "  </tbody>\n",
       "</table>\n",
       "</div>"
      ],
      "text/plain": [
       "   Voter ID County Candidate\n",
       "0  12864552  Marsh      Khan\n",
       "1  17444633  Marsh    Correy\n",
       "2  19330107  Marsh      Khan\n",
       "3  19865775  Queen      Khan\n",
       "4  11927875  Marsh      Khan"
      ]
     },
     "execution_count": 27,
     "metadata": {},
     "output_type": "execute_result"
    }
   ],
   "source": [
    "df.head()"
   ]
  },
  {
   "cell_type": "code",
   "execution_count": 28,
   "id": "1955f7fb-eee1-43f8-97e4-e17cc6049c7e",
   "metadata": {},
   "outputs": [
    {
     "data": {
      "text/html": [
       "<div>\n",
       "<style scoped>\n",
       "    .dataframe tbody tr th:only-of-type {\n",
       "        vertical-align: middle;\n",
       "    }\n",
       "\n",
       "    .dataframe tbody tr th {\n",
       "        vertical-align: top;\n",
       "    }\n",
       "\n",
       "    .dataframe thead th {\n",
       "        text-align: right;\n",
       "    }\n",
       "</style>\n",
       "<table border=\"1\" class=\"dataframe\">\n",
       "  <thead>\n",
       "    <tr style=\"text-align: right;\">\n",
       "      <th></th>\n",
       "      <th>Candidate</th>\n",
       "      <th>Voter ID</th>\n",
       "      <th>County</th>\n",
       "    </tr>\n",
       "  </thead>\n",
       "  <tbody>\n",
       "    <tr>\n",
       "      <th>0</th>\n",
       "      <td>Khan</td>\n",
       "      <td>12864552</td>\n",
       "      <td>Marsh</td>\n",
       "    </tr>\n",
       "    <tr>\n",
       "      <th>1</th>\n",
       "      <td>Correy</td>\n",
       "      <td>17444633</td>\n",
       "      <td>Marsh</td>\n",
       "    </tr>\n",
       "    <tr>\n",
       "      <th>2</th>\n",
       "      <td>Khan</td>\n",
       "      <td>19330107</td>\n",
       "      <td>Marsh</td>\n",
       "    </tr>\n",
       "    <tr>\n",
       "      <th>3</th>\n",
       "      <td>Khan</td>\n",
       "      <td>19865775</td>\n",
       "      <td>Queen</td>\n",
       "    </tr>\n",
       "    <tr>\n",
       "      <th>4</th>\n",
       "      <td>Khan</td>\n",
       "      <td>11927875</td>\n",
       "      <td>Marsh</td>\n",
       "    </tr>\n",
       "  </tbody>\n",
       "</table>\n",
       "</div>"
      ],
      "text/plain": [
       "  Candidate  Voter ID County\n",
       "0      Khan  12864552  Marsh\n",
       "1    Correy  17444633  Marsh\n",
       "2      Khan  19330107  Marsh\n",
       "3      Khan  19865775  Queen\n",
       "4      Khan  11927875  Marsh"
      ]
     },
     "execution_count": 28,
     "metadata": {},
     "output_type": "execute_result"
    }
   ],
   "source": [
    "df = df[['Candidate', 'Voter ID', 'County']]\n",
    "df.head()"
   ]
  },
  {
   "cell_type": "code",
   "execution_count": 29,
   "id": "ceefa43d-51c9-48c4-a37f-146768483496",
   "metadata": {},
   "outputs": [
    {
     "name": "stdout",
     "output_type": "stream",
     "text": [
      "Candidate\n",
      "Correy       704200\n",
      "Khan        2218231\n",
      "Li           492940\n",
      "O'Tooley     105630\n",
      "Name: Candidate, dtype: int64\n"
     ]
    },
    {
     "data": {
      "text/html": [
       "<div>\n",
       "<style scoped>\n",
       "    .dataframe tbody tr th:only-of-type {\n",
       "        vertical-align: middle;\n",
       "    }\n",
       "\n",
       "    .dataframe tbody tr th {\n",
       "        vertical-align: top;\n",
       "    }\n",
       "\n",
       "    .dataframe thead th {\n",
       "        text-align: right;\n",
       "    }\n",
       "</style>\n",
       "<table border=\"1\" class=\"dataframe\">\n",
       "  <thead>\n",
       "    <tr style=\"text-align: right;\">\n",
       "      <th></th>\n",
       "      <th>Candidate</th>\n",
       "    </tr>\n",
       "    <tr>\n",
       "      <th>Candidate</th>\n",
       "      <th></th>\n",
       "    </tr>\n",
       "  </thead>\n",
       "  <tbody>\n",
       "    <tr>\n",
       "      <th>Correy</th>\n",
       "      <td>704200</td>\n",
       "    </tr>\n",
       "    <tr>\n",
       "      <th>Khan</th>\n",
       "      <td>2218231</td>\n",
       "    </tr>\n",
       "    <tr>\n",
       "      <th>Li</th>\n",
       "      <td>492940</td>\n",
       "    </tr>\n",
       "    <tr>\n",
       "      <th>O'Tooley</th>\n",
       "      <td>105630</td>\n",
       "    </tr>\n",
       "  </tbody>\n",
       "</table>\n",
       "</div>"
      ],
      "text/plain": [
       "           Candidate\n",
       "Candidate           \n",
       "Correy        704200\n",
       "Khan         2218231\n",
       "Li            492940\n",
       "O'Tooley      105630"
      ]
     },
     "execution_count": 29,
     "metadata": {},
     "output_type": "execute_result"
    }
   ],
   "source": [
    "#Create groups for how many votes each candidate received.\n",
    "# Create a GroupBy object based upon \"View Group\"\n",
    "candidategrp = df.groupby(\"Candidate\")\n",
    "\n",
    "# Find how many rows fall into each bin\n",
    "print(candidategrp[\"Candidate\"].count())\n",
    "\n",
    "# Get the count of each column within the GroupBy object\n",
    "candidategrp[['Candidate']].count()"
   ]
  },
  {
   "cell_type": "code",
   "execution_count": 30,
   "id": "37b30766-4540-4322-9832-befa89d61f58",
   "metadata": {},
   "outputs": [
    {
     "data": {
      "text/plain": [
       "3521001"
      ]
     },
     "execution_count": 30,
     "metadata": {},
     "output_type": "execute_result"
    }
   ],
   "source": [
    "#The total number of votes cast\n",
    "totalvotes = df[\"Voter ID\"].count()\n",
    "totalvotes"
   ]
  },
  {
   "cell_type": "code",
   "execution_count": 31,
   "id": "df419f58-60b3-4b7e-aa1d-f643e4766d1b",
   "metadata": {},
   "outputs": [
    {
     "data": {
      "text/plain": [
       "array(['Khan', 'Correy', 'Li', \"O'Tooley\"], dtype=object)"
      ]
     },
     "execution_count": 31,
     "metadata": {},
     "output_type": "execute_result"
    }
   ],
   "source": [
    "#A complete list of candidates who received votes\n",
    "totcands = df[\"Candidate\"].unique()\n",
    "totcands"
   ]
  },
  {
   "cell_type": "code",
   "execution_count": 32,
   "id": "e856a1a5-5947-4151-a72a-84da90f5cf0b",
   "metadata": {},
   "outputs": [
    {
     "data": {
      "text/html": [
       "<div>\n",
       "<style scoped>\n",
       "    .dataframe tbody tr th:only-of-type {\n",
       "        vertical-align: middle;\n",
       "    }\n",
       "\n",
       "    .dataframe tbody tr th {\n",
       "        vertical-align: top;\n",
       "    }\n",
       "\n",
       "    .dataframe thead th {\n",
       "        text-align: right;\n",
       "    }\n",
       "</style>\n",
       "<table border=\"1\" class=\"dataframe\">\n",
       "  <thead>\n",
       "    <tr style=\"text-align: right;\">\n",
       "      <th></th>\n",
       "      <th>Percent of Total Votes</th>\n",
       "      <th>Votes Earned</th>\n",
       "    </tr>\n",
       "  </thead>\n",
       "  <tbody>\n",
       "    <tr>\n",
       "      <th>Khan</th>\n",
       "      <td>63.00%</td>\n",
       "      <td>2,218,231</td>\n",
       "    </tr>\n",
       "    <tr>\n",
       "      <th>Correy</th>\n",
       "      <td>20.00%</td>\n",
       "      <td>704,200</td>\n",
       "    </tr>\n",
       "    <tr>\n",
       "      <th>Li</th>\n",
       "      <td>14.00%</td>\n",
       "      <td>492,940</td>\n",
       "    </tr>\n",
       "    <tr>\n",
       "      <th>O'Tooley</th>\n",
       "      <td>3.00%</td>\n",
       "      <td>105,630</td>\n",
       "    </tr>\n",
       "  </tbody>\n",
       "</table>\n",
       "</div>"
      ],
      "text/plain": [
       "         Percent of Total Votes Votes Earned\n",
       "Khan                     63.00%    2,218,231\n",
       "Correy                   20.00%      704,200\n",
       "Li                       14.00%      492,940\n",
       "O'Tooley                  3.00%      105,630"
      ]
     },
     "execution_count": 32,
     "metadata": {},
     "output_type": "execute_result"
    }
   ],
   "source": [
    "#The percentage of votes each candidate won\n",
    "votetally = df[\"Candidate\"].value_counts()\n",
    "votetallyp = df[\"Candidate\"].value_counts()/totalvotes\n",
    "votetallyp\n",
    "votepercentdf = pd.DataFrame((votetally/totalvotes)*100)\n",
    "votepercentdf[\"Votes Earned\"] = votetally = df[\"Candidate\"].value_counts()\n",
    "votepercentdf = votepercentdf.rename(columns={\"Candidate\": \"Percent of Total Votes\"})\n",
    "votepercentdf[\"Percent of Total Votes\"] = votepercentdf[\"Percent of Total Votes\"].astype(float).map(\n",
    "    \"{:,.2f}%\".format)\n",
    "votepercentdf[\"Votes Earned\"] = votepercentdf[\"Votes Earned\"].map(\"{:,}\".format)\n",
    "votepercentdf"
   ]
  },
  {
   "cell_type": "code",
   "execution_count": 33,
   "id": "856499e2-568c-4a22-a897-37252b0bbdb5",
   "metadata": {},
   "outputs": [
    {
     "data": {
      "text/html": [
       "<div>\n",
       "<style scoped>\n",
       "    .dataframe tbody tr th:only-of-type {\n",
       "        vertical-align: middle;\n",
       "    }\n",
       "\n",
       "    .dataframe tbody tr th {\n",
       "        vertical-align: top;\n",
       "    }\n",
       "\n",
       "    .dataframe thead th {\n",
       "        text-align: right;\n",
       "    }\n",
       "</style>\n",
       "<table border=\"1\" class=\"dataframe\">\n",
       "  <thead>\n",
       "    <tr style=\"text-align: right;\">\n",
       "      <th></th>\n",
       "      <th>Candidate</th>\n",
       "      <th>Voter ID</th>\n",
       "    </tr>\n",
       "  </thead>\n",
       "  <tbody>\n",
       "    <tr>\n",
       "      <th>0</th>\n",
       "      <td>Khan</td>\n",
       "      <td>12864552</td>\n",
       "    </tr>\n",
       "    <tr>\n",
       "      <th>1</th>\n",
       "      <td>Correy</td>\n",
       "      <td>17444633</td>\n",
       "    </tr>\n",
       "    <tr>\n",
       "      <th>2</th>\n",
       "      <td>Khan</td>\n",
       "      <td>19330107</td>\n",
       "    </tr>\n",
       "    <tr>\n",
       "      <th>3</th>\n",
       "      <td>Khan</td>\n",
       "      <td>19865775</td>\n",
       "    </tr>\n",
       "    <tr>\n",
       "      <th>4</th>\n",
       "      <td>Khan</td>\n",
       "      <td>11927875</td>\n",
       "    </tr>\n",
       "  </tbody>\n",
       "</table>\n",
       "</div>"
      ],
      "text/plain": [
       "  Candidate  Voter ID\n",
       "0      Khan  12864552\n",
       "1    Correy  17444633\n",
       "2      Khan  19330107\n",
       "3      Khan  19865775\n",
       "4      Khan  11927875"
      ]
     },
     "execution_count": 33,
     "metadata": {},
     "output_type": "execute_result"
    }
   ],
   "source": [
    "#The winner of the election based on popular vote.\n",
    "#Khan\n",
    "df.loc[:,[\"Candidate\", \"Voter ID\"]].head()"
   ]
  },
  {
   "cell_type": "code",
   "execution_count": 34,
   "id": "7f795fe4-d84d-4cf5-aa5c-60cfffc29d5c",
   "metadata": {},
   "outputs": [
    {
     "name": "stdout",
     "output_type": "stream",
     "text": [
      "Election Results\n",
      "-------------------------\n",
      "Total Votes:  3521001\n",
      "-------------------------\n",
      "         Percent of Total Votes Votes Earned\n",
      "Khan                     63.00%    2,218,231\n",
      "Correy                   20.00%      704,200\n",
      "Li                       14.00%      492,940\n",
      "O'Tooley                  3.00%      105,630\n",
      "-------------------------\n",
      "Winner: Khan\n",
      "-------------------------\n"
     ]
    }
   ],
   "source": [
    "#As an example, your analysis should look similar to the one below:\n",
    "\n",
    "print('Election Results')\n",
    "print('-------------------------')\n",
    "print(f'Total Votes: ', totalvotes)\n",
    "print('-------------------------')\n",
    "print(votepercentdf)\n",
    "print('-------------------------')\n",
    "print('Winner: Khan')\n",
    "print('-------------------------')"
   ]
  },
  {
   "cell_type": "code",
   "execution_count": 35,
   "id": "82672453-5d6d-4fbb-8519-51680bdf1428",
   "metadata": {},
   "outputs": [],
   "source": [
    "df.to_csv(\"Analysis/PyPoll.csv\", index=False, header=True)"
   ]
  },
  {
   "cell_type": "code",
   "execution_count": 36,
   "id": "f9786f28-a369-43c4-813d-0d0c77192920",
   "metadata": {},
   "outputs": [],
   "source": [
    "df.to_csv(r'C:\\Users\\egera\\OneDrive\\Desktop\\School wrk\\Homework\\Python-challenge\\python-challenge\\PyPoll\\Analysis\\PyPoll.txt', header=None, index=None, sep='\\t', mode='a')"
   ]
  },
  {
   "cell_type": "code",
   "execution_count": null,
   "id": "ef19cbd7-89af-436e-a423-c8674e2ab8f5",
   "metadata": {},
   "outputs": [],
   "source": []
  }
 ],
 "metadata": {
  "kernelspec": {
   "display_name": "Python 3 (ipykernel)",
   "language": "python",
   "name": "python3"
  },
  "language_info": {
   "codemirror_mode": {
    "name": "ipython",
    "version": 3
   },
   "file_extension": ".py",
   "mimetype": "text/x-python",
   "name": "python",
   "nbconvert_exporter": "python",
   "pygments_lexer": "ipython3",
   "version": "3.9.7"
  }
 },
 "nbformat": 4,
 "nbformat_minor": 5
}
